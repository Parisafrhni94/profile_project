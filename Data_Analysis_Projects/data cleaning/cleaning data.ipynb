{
 "cells": [
  {
   "cell_type": "code",
   "execution_count": 7,
   "id": "5b166d47",
   "metadata": {},
   "outputs": [
    {
     "data": {
      "text/html": [
       "<div>\n",
       "<style scoped>\n",
       "    .dataframe tbody tr th:only-of-type {\n",
       "        vertical-align: middle;\n",
       "    }\n",
       "\n",
       "    .dataframe tbody tr th {\n",
       "        vertical-align: top;\n",
       "    }\n",
       "\n",
       "    .dataframe thead th {\n",
       "        text-align: right;\n",
       "    }\n",
       "</style>\n",
       "<table border=\"1\" class=\"dataframe\">\n",
       "  <thead>\n",
       "    <tr style=\"text-align: right;\">\n",
       "      <th></th>\n",
       "      <th>State</th>\n",
       "      <th>County</th>\n",
       "      <th>State code</th>\n",
       "      <th>County code</th>\n",
       "      <th>Year span</th>\n",
       "      <th>Measure name</th>\n",
       "      <th>Measure id</th>\n",
       "      <th>Numerator</th>\n",
       "      <th>Denominator</th>\n",
       "      <th>Raw value</th>\n",
       "      <th>Confidence Interval Lower Bound</th>\n",
       "      <th>Confidence Interval Upper Bound</th>\n",
       "      <th>Data Release Year</th>\n",
       "      <th>fipscode</th>\n",
       "    </tr>\n",
       "  </thead>\n",
       "  <tbody>\n",
       "    <tr>\n",
       "      <th>0</th>\n",
       "      <td>US</td>\n",
       "      <td>United States</td>\n",
       "      <td>0.0</td>\n",
       "      <td>0.0</td>\n",
       "      <td>2003-2005</td>\n",
       "      <td>Violent crime rate</td>\n",
       "      <td>43.0</td>\n",
       "      <td>1328750.667</td>\n",
       "      <td>274877117.0</td>\n",
       "      <td>483.398066</td>\n",
       "      <td>NaN</td>\n",
       "      <td>NaN</td>\n",
       "      <td>NaN</td>\n",
       "      <td>0.0</td>\n",
       "    </tr>\n",
       "    <tr>\n",
       "      <th>1</th>\n",
       "      <td>US</td>\n",
       "      <td>United States</td>\n",
       "      <td>0.0</td>\n",
       "      <td>0.0</td>\n",
       "      <td>2004-2006</td>\n",
       "      <td>Violent crime rate</td>\n",
       "      <td>43.0</td>\n",
       "      <td>1340928.667</td>\n",
       "      <td>277612778.5</td>\n",
       "      <td>483.021233</td>\n",
       "      <td>NaN</td>\n",
       "      <td>NaN</td>\n",
       "      <td>NaN</td>\n",
       "      <td>0.0</td>\n",
       "    </tr>\n",
       "    <tr>\n",
       "      <th>2</th>\n",
       "      <td>US</td>\n",
       "      <td>United States</td>\n",
       "      <td>0.0</td>\n",
       "      <td>0.0</td>\n",
       "      <td>2005-2007</td>\n",
       "      <td>Violent crime rate</td>\n",
       "      <td>43.0</td>\n",
       "      <td>1355853.167</td>\n",
       "      <td>280407694.7</td>\n",
       "      <td>483.529230</td>\n",
       "      <td>NaN</td>\n",
       "      <td>NaN</td>\n",
       "      <td>2010.0</td>\n",
       "      <td>0.0</td>\n",
       "    </tr>\n",
       "    <tr>\n",
       "      <th>3</th>\n",
       "      <td>US</td>\n",
       "      <td>United States</td>\n",
       "      <td>0.0</td>\n",
       "      <td>0.0</td>\n",
       "      <td>2006-2008</td>\n",
       "      <td>Violent crime rate</td>\n",
       "      <td>43.0</td>\n",
       "      <td>1366928.333</td>\n",
       "      <td>287614567.7</td>\n",
       "      <td>475.263942</td>\n",
       "      <td>NaN</td>\n",
       "      <td>NaN</td>\n",
       "      <td>2011.0</td>\n",
       "      <td>0.0</td>\n",
       "    </tr>\n",
       "    <tr>\n",
       "      <th>4</th>\n",
       "      <td>US</td>\n",
       "      <td>United States</td>\n",
       "      <td>0.0</td>\n",
       "      <td>0.0</td>\n",
       "      <td>2007-2009</td>\n",
       "      <td>Violent crime rate</td>\n",
       "      <td>43.0</td>\n",
       "      <td>1339439.333</td>\n",
       "      <td>292576281.2</td>\n",
       "      <td>457.808585</td>\n",
       "      <td>NaN</td>\n",
       "      <td>NaN</td>\n",
       "      <td>2012.0</td>\n",
       "      <td>0.0</td>\n",
       "    </tr>\n",
       "  </tbody>\n",
       "</table>\n",
       "</div>"
      ],
      "text/plain": [
       "  State         County  State code  County code  Year span  \\\n",
       "0    US  United States         0.0          0.0  2003-2005   \n",
       "1    US  United States         0.0          0.0  2004-2006   \n",
       "2    US  United States         0.0          0.0  2005-2007   \n",
       "3    US  United States         0.0          0.0  2006-2008   \n",
       "4    US  United States         0.0          0.0  2007-2009   \n",
       "\n",
       "         Measure name  Measure id    Numerator  Denominator   Raw value  \\\n",
       "0  Violent crime rate        43.0  1328750.667  274877117.0  483.398066   \n",
       "1  Violent crime rate        43.0  1340928.667  277612778.5  483.021233   \n",
       "2  Violent crime rate        43.0  1355853.167  280407694.7  483.529230   \n",
       "3  Violent crime rate        43.0  1366928.333  287614567.7  475.263942   \n",
       "4  Violent crime rate        43.0  1339439.333  292576281.2  457.808585   \n",
       "\n",
       "   Confidence Interval Lower Bound  Confidence Interval Upper Bound  \\\n",
       "0                              NaN                              NaN   \n",
       "1                              NaN                              NaN   \n",
       "2                              NaN                              NaN   \n",
       "3                              NaN                              NaN   \n",
       "4                              NaN                              NaN   \n",
       "\n",
       "   Data Release Year  fipscode  \n",
       "0                NaN       0.0  \n",
       "1                NaN       0.0  \n",
       "2             2010.0       0.0  \n",
       "3             2011.0       0.0  \n",
       "4             2012.0       0.0  "
      ]
     },
     "execution_count": 7,
     "metadata": {},
     "output_type": "execute_result"
    }
   ],
   "source": [
    "import matplotlib.pyplot as plt\n",
    "import seaborn as sns\n",
    "import pandas as pd\n",
    "from statsmodels import api as sm\n",
    "import numpy as np\n",
    "df = pd.read_csv(\"County_Health_Rankings.csv\")\n",
    "df.head(5)"
   ]
  },
  {
   "cell_type": "code",
   "execution_count": 8,
   "id": "4c10eee2",
   "metadata": {},
   "outputs": [
    {
     "name": "stdout",
     "output_type": "stream",
     "text": [
      "(303864, 14)\n",
      "State                               object\n",
      "County                              object\n",
      "State code                         float64\n",
      "County code                        float64\n",
      "Year span                           object\n",
      "Measure name                        object\n",
      "Measure id                         float64\n",
      "Numerator                          float64\n",
      "Denominator                        float64\n",
      "Raw value                          float64\n",
      "Confidence Interval Lower Bound    float64\n",
      "Confidence Interval Upper Bound    float64\n",
      "Data Release Year                  float64\n",
      "fipscode                           float64\n",
      "dtype: object\n",
      "['State code' 'County code' 'Measure id' 'Numerator' 'Denominator'\n",
      " 'Raw value' 'Confidence Interval Lower Bound'\n",
      " 'Confidence Interval Upper Bound' 'Data Release Year' 'fipscode']\n",
      "['State' 'County' 'Year span' 'Measure name']\n"
     ]
    }
   ],
   "source": [
    "# shape and data types of the data\n",
    "print(df.shape)\n",
    "print(df.dtypes)\n",
    "\n",
    "# select numeric columns\n",
    "df_numeric = df.select_dtypes(include=[np.number])\n",
    "numeric_cols = df_numeric.columns.values\n",
    "print(numeric_cols)\n",
    "\n",
    "# select non numeric columns\n",
    "df_non_numeric = df.select_dtypes(exclude=[np.number])\n",
    "non_numeric_cols = df_non_numeric.columns.values\n",
    "print(non_numeric_cols)"
   ]
  },
  {
   "cell_type": "markdown",
   "id": "3738fff2",
   "metadata": {},
   "source": [
    "## Missing data"
   ]
  },
  {
   "cell_type": "markdown",
   "id": "f53f24a5",
   "metadata": {},
   "source": [
    "#### 1) Missing Data Heatmap"
   ]
  },
  {
   "cell_type": "code",
   "execution_count": 9,
   "id": "bde54702",
   "metadata": {},
   "outputs": [
    {
     "data": {
      "text/plain": [
       "<AxesSubplot: >"
      ]
     },
     "execution_count": 9,
     "metadata": {},
     "output_type": "execute_result"
    },
    {
     "data": {
      "image/png": "[encoded data removed]",
      "text/plain": [
       "<Figure size 640x480 with 2 Axes>"
      ]
     },
     "metadata": {},
     "output_type": "display_data"
    }
   ],
   "source": [
    "cols = df.columns[:30] # first 30 columns\n",
    "colours = ['#000099', '#ffff00'] # specify the colours - yellow is missing. blue is not missing.\n",
    "sns.heatmap(df[cols].isnull(), cmap=sns.color_palette(colours))"
   ]
  },
  {
   "cell_type": "markdown",
   "id": "28498b44",
   "metadata": {},
   "source": [
    "#### 2) Missing Data Percentage List"
   ]
  },
  {
   "cell_type": "code",
   "execution_count": 10,
   "id": "999b1f6e",
   "metadata": {},
   "outputs": [
    {
     "name": "stdout",
     "output_type": "stream",
     "text": [
      "State - 0%\n",
      "County - 0%\n",
      "State code - 0%\n",
      "County code - 0%\n",
      "Year span - 0%\n",
      "Measure name - 0%\n",
      "Measure id - 0%\n",
      "Numerator - 30%\n",
      "Denominator - 39%\n",
      "Raw value - 5%\n",
      "Confidence Interval Lower Bound - 38%\n",
      "Confidence Interval Upper Bound - 38%\n",
      "Data Release Year - 51%\n",
      "fipscode - 3%\n"
     ]
    }
   ],
   "source": [
    "# % of missing.\n",
    "for col in df.columns:\n",
    "    pct_missing = np.mean(df[col].isnull())\n",
    "    print('{} - {}%'.format(col, round(pct_missing*100)))"
   ]
  },
  {
   "cell_type": "markdown",
   "id": "68eda6b3",
   "metadata": {},
   "source": [
    "#### 3) Missing Data Histogram"
   ]
  },
  {
   "cell_type": "code",
   "execution_count": 11,
   "id": "ea793c8a",
   "metadata": {},
   "outputs": [
    {
     "name": "stdout",
     "output_type": "stream",
     "text": [
      "created missing indicator for: State\n",
      "created missing indicator for: County\n",
      "created missing indicator for: State code\n",
      "created missing indicator for: County code\n",
      "created missing indicator for: Year span\n",
      "created missing indicator for: Measure name\n",
      "created missing indicator for: Measure id\n",
      "created missing indicator for: Numerator\n",
      "created missing indicator for: Denominator\n",
      "created missing indicator for: Raw value\n",
      "created missing indicator for: Confidence Interval Lower Bound\n",
      "created missing indicator for: Confidence Interval Upper Bound\n",
      "created missing indicator for: Data Release Year\n",
      "created missing indicator for: fipscode\n"
     ]
    },
    {
     "data": {
      "text/plain": [
       "<AxesSubplot: xlabel='index'>"
      ]
     },
     "execution_count": 11,
     "metadata": {},
     "output_type": "execute_result"
    },
    {
     "data": {
      "image/png": "[encoded data removed]",
      "text/plain": [
       "<Figure size 640x480 with 1 Axes>"
      ]
     },
     "metadata": {},
     "output_type": "display_data"
    }
   ],
   "source": [
    "# first create missing indicator for features with missing data\n",
    "for col in df.columns:\n",
    "    missing = df[col].isnull()\n",
    "    num_missing = np.sum(missing)\n",
    "    \n",
    "    if num_missing > 0:  \n",
    "        print('created missing indicator for: {}'.format(col))\n",
    "        df['{}_ismissing'.format(col)] = missing\n",
    "\n",
    "\n",
    "# then based on the indicator, plot the histogram of missing values\n",
    "ismissing_cols = [col for col in df.columns if 'ismissing' in col]\n",
    "df['num_missing'] = df[ismissing_cols].sum(axis=1)\n",
    "\n",
    "df['num_missing'].value_counts().reset_index().sort_values(by='index').plot.bar(x='index', y='num_missing')\n"
   ]
  },
  {
   "cell_type": "markdown",
   "id": "69b41e15",
   "metadata": {},
   "source": [
    "### What to do with missing data?"
   ]
  },
  {
   "cell_type": "markdown",
   "id": "5bbdd046",
   "metadata": {},
   "source": [
    "#### 1) Drop the Observation"
   ]
  },
  {
   "cell_type": "code",
   "execution_count": 12,
   "id": "5fa31957",
   "metadata": {},
   "outputs": [],
   "source": [
    "# drop rows with a lot of missing values.\n",
    "ind_missing = df[df['num_missing'] > 35].index\n",
    "df_less_missing_rows = df.drop(ind_missing, axis=0)"
   ]
  },
  {
   "cell_type": "markdown",
   "id": "5b2afd39",
   "metadata": {},
   "source": [
    "#### 2) Drop the Feature"
   ]
  },
  {
   "cell_type": "code",
   "execution_count": null,
   "id": "5e490905",
   "metadata": {},
   "outputs": [],
   "source": [
    "# Data Release Year has a lot of missing.\n",
    "# If we want to drop.\n",
    "cols_to_drop = ['Data Release Year']\n",
    "df_less_hos_beds_raion = df.drop(cols_to_drop, axis=1)"
   ]
  },
  {
   "cell_type": "markdown",
   "id": "d9744dce",
   "metadata": {},
   "source": [
    "#### 3) Impute the Missing"
   ]
  },
  {
   "cell_type": "code",
   "execution_count": null,
   "id": "bcc8def6",
   "metadata": {},
   "outputs": [],
   "source": [
    "# replace missing values with the median.\n",
    "med = df['Numerator'].median()\n",
    "print(med)\n",
    "df['Numerator'] = df['Numerator'].fillna(med)"
   ]
  },
  {
   "cell_type": "code",
   "execution_count": 13,
   "id": "6dedd21b",
   "metadata": {},
   "outputs": [
    {
     "name": "stdout",
     "output_type": "stream",
     "text": [
      "imputing missing values for: State code\n",
      "imputing missing values for: County code\n",
      "imputing missing values for: Measure id\n",
      "imputing missing values for: Numerator\n",
      "imputing missing values for: Denominator\n",
      "imputing missing values for: Raw value\n",
      "imputing missing values for: Confidence Interval Lower Bound\n",
      "imputing missing values for: Confidence Interval Upper Bound\n",
      "imputing missing values for: Data Release Year\n",
      "imputing missing values for: fipscode\n"
     ]
    }
   ],
   "source": [
    "# impute the missing values and create the missing value indicator variables for each numeric column.\n",
    "df_numeric = df.select_dtypes(include=[np.number])\n",
    "numeric_cols = df_numeric.columns.values\n",
    "\n",
    "for col in numeric_cols:\n",
    "    missing = df[col].isnull()\n",
    "    num_missing = np.sum(missing)\n",
    "    \n",
    "    if num_missing > 0:  # only do the imputation for the columns that have missing values.\n",
    "        print('imputing missing values for: {}'.format(col))\n",
    "        df['{}_ismissing'.format(col)] = missing\n",
    "        med = df[col].median()\n",
    "        df[col] = df[col].fillna(med)"
   ]
  },
  {
   "cell_type": "markdown",
   "id": "d6eee9db",
   "metadata": {},
   "source": [
    "#### 4) Replace the Missing"
   ]
  },
  {
   "cell_type": "markdown",
   "id": "87bb2864",
   "metadata": {},
   "source": [
    "For categorical features, we can add a new category with a value such as “_MISSING_”. For numerical features, we can replace it with a particular value such as -999."
   ]
  },
  {
   "cell_type": "code",
   "execution_count": null,
   "id": "1712eca7",
   "metadata": {},
   "outputs": [],
   "source": [
    "# categorical\n",
    "df['sub_area'] = df['sub_area'].fillna('_MISSING_')\n",
    "\n",
    "\n",
    "# numeric\n",
    "df['life_sq'] = df['life_sq'].fillna(-999)"
   ]
  },
  {
   "cell_type": "markdown",
   "id": "6a323659",
   "metadata": {},
   "source": [
    "## Irregular data (Outliers)\n",
    "\n",
    "Outliers are data that is distinctively different from other observations. They could be real outliers or mistakes."
   ]
  },
  {
   "cell_type": "markdown",
   "id": "08a4df48",
   "metadata": {},
   "source": [
    "#### 1) Histgram/ Box Plot"
   ]
  },
  {
   "cell_type": "code",
   "execution_count": 15,
   "id": "a6cd62f2",
   "metadata": {},
   "outputs": [
    {
     "data": {
      "text/plain": [
       "<AxesSubplot: >"
      ]
     },
     "execution_count": 15,
     "metadata": {},
     "output_type": "execute_result"
    },
    {
     "data": {
      "image/png": "[encoded data removed]",
      "text/plain": [
       "<Figure size 640x480 with 1 Axes>"
      ]
     },
     "metadata": {},
     "output_type": "display_data"
    }
   ],
   "source": [
    "df.boxplot(column=['Measure id'])"
   ]
  },
  {
   "cell_type": "markdown",
   "id": "fcbcb62e",
   "metadata": {},
   "source": [
    "#### 2) Descriptive Statistics"
   ]
  },
  {
   "cell_type": "code",
   "execution_count": 16,
   "id": "c3279168",
   "metadata": {},
   "outputs": [
    {
     "data": {
      "text/plain": [
       "count    303864.000000\n",
       "mean         38.676141\n",
       "std          36.767294\n",
       "min           1.000000\n",
       "25%           7.000000\n",
       "50%          24.000000\n",
       "75%          50.000000\n",
       "max         125.000000\n",
       "Name: Measure id, dtype: float64"
      ]
     },
     "execution_count": 16,
     "metadata": {},
     "output_type": "execute_result"
    }
   ],
   "source": [
    "df['Measure id'].describe()"
   ]
  },
  {
   "cell_type": "markdown",
   "id": "d6d1ddfe",
   "metadata": {},
   "source": [
    "#### 3) Bar Chart"
   ]
  },
  {
   "cell_type": "code",
   "execution_count": 18,
   "id": "990fe9c1",
   "metadata": {},
   "outputs": [
    {
     "data": {
      "text/plain": [
       "<AxesSubplot: >"
      ]
     },
     "execution_count": 18,
     "metadata": {},
     "output_type": "execute_result"
    },
    {
     "data": {
      "image/png": "[encoded data removed]",
      "text/plain": [
       "<Figure size 640x480 with 1 Axes>"
      ]
     },
     "metadata": {},
     "output_type": "display_data"
    }
   ],
   "source": [
    "df['Measure id'].value_counts().plot.bar()"
   ]
  },
  {
   "cell_type": "markdown",
   "id": "108ae764",
   "metadata": {},
   "source": [
    "## Unnecessary data"
   ]
  },
  {
   "cell_type": "markdown",
   "id": "df34f38b",
   "metadata": {},
   "source": [
    "#### 1) Uninformative / Repetitive"
   ]
  },
  {
   "cell_type": "code",
   "execution_count": 19,
   "id": "21b7ec64",
   "metadata": {},
   "outputs": [
    {
     "name": "stdout",
     "output_type": "stream",
     "text": [
      "State_ismissing: 99.99803%\n",
      "False    303858\n",
      "True          6\n",
      "Name: State_ismissing, dtype: int64\n",
      "\n",
      "County_ismissing: 99.99803%\n",
      "False    303858\n",
      "True          6\n",
      "Name: County_ismissing, dtype: int64\n",
      "\n",
      "State code_ismissing: 99.99868%\n",
      "False    303860\n",
      "True          4\n",
      "Name: State code_ismissing, dtype: int64\n",
      "\n",
      "County code_ismissing: 99.99868%\n",
      "False    303860\n",
      "True          4\n",
      "Name: County code_ismissing, dtype: int64\n",
      "\n",
      "Year span_ismissing: 99.84401%\n",
      "False    303390\n",
      "True        474\n",
      "Name: Year span_ismissing, dtype: int64\n",
      "\n",
      "Measure name_ismissing: 99.84401%\n",
      "False    303390\n",
      "True        474\n",
      "Name: Measure name_ismissing, dtype: int64\n",
      "\n",
      "Measure id_ismissing: 99.84401%\n",
      "False    303390\n",
      "True        474\n",
      "Name: Measure id_ismissing, dtype: int64\n",
      "\n",
      "Raw value_ismissing: 95.42295%\n",
      "False    289956\n",
      "True      13908\n",
      "Name: Raw value_ismissing, dtype: int64\n",
      "\n",
      "fipscode_ismissing: 96.84694%\n",
      "False    294283\n",
      "True       9581\n",
      "Name: fipscode_ismissing, dtype: int64\n",
      "\n"
     ]
    }
   ],
   "source": [
    "num_rows = len(df.index)\n",
    "low_information_cols = [] #\n",
    "\n",
    "for col in df.columns:\n",
    "    cnts = df[col].value_counts(dropna=False)\n",
    "    top_pct = (cnts/num_rows).iloc[0]\n",
    "    \n",
    "    if top_pct > 0.95:\n",
    "        low_information_cols.append(col)\n",
    "        print('{0}: {1:.5f}%'.format(col, top_pct*100))\n",
    "        print(cnts)\n",
    "        print()"
   ]
  },
  {
   "cell_type": "markdown",
   "id": "2c034f6e",
   "metadata": {},
   "source": [
    "#### 2) Duplicates"
   ]
  },
  {
   "cell_type": "code",
   "execution_count": 20,
   "id": "41ea1c48",
   "metadata": {},
   "outputs": [
    {
     "name": "stdout",
     "output_type": "stream",
     "text": [
      "(303864, 29)\n",
      "(297071, 28)\n"
     ]
    }
   ],
   "source": [
    "df_dedupped = df.drop('Measure id', axis=1).drop_duplicates()\n",
    "\n",
    "# there were duplicate rows\n",
    "print(df.shape)\n",
    "print(df_dedupped.shape)"
   ]
  },
  {
   "cell_type": "markdown",
   "id": "d1dda90c",
   "metadata": {},
   "source": [
    "## Inconsistent data\n"
   ]
  },
  {
   "cell_type": "markdown",
   "id": "8dfcb3dd",
   "metadata": {},
   "source": [
    "#### 1) Capitalization"
   ]
  },
  {
   "cell_type": "code",
   "execution_count": 30,
   "id": "d6d1355b",
   "metadata": {},
   "outputs": [
    {
     "data": {
      "text/plain": [
       "Washington County      2850\n",
       "Jefferson County       2375\n",
       "Franklin County        2280\n",
       "Jackson County         2185\n",
       "Lincoln County         2185\n",
       "                       ... \n",
       "Dorado Municipio          7\n",
       "Culebra Municipio         7\n",
       "Corozal Municipio         7\n",
       "Canovanas Municipio       7\n",
       "NaN                       6\n",
       "Name: County, Length: 2009, dtype: int64"
      ]
     },
     "execution_count": 30,
     "metadata": {},
     "output_type": "execute_result"
    }
   ],
   "source": [
    "df['County'].value_counts(dropna=False)"
   ]
  },
  {
   "cell_type": "code",
   "execution_count": 31,
   "id": "8268eaff",
   "metadata": {},
   "outputs": [
    {
     "data": {
      "text/plain": [
       "washington county      2850\n",
       "jefferson county       2375\n",
       "franklin county        2280\n",
       "jackson county         2185\n",
       "lincoln county         2185\n",
       "                       ... \n",
       "dorado municipio          7\n",
       "culebra municipio         7\n",
       "corozal municipio         7\n",
       "canovanas municipio       7\n",
       "NaN                       6\n",
       "Name: County, Length: 2009, dtype: int64"
      ]
     },
     "execution_count": 31,
     "metadata": {},
     "output_type": "execute_result"
    }
   ],
   "source": [
    "# make everything lower case.\n",
    "df['County'] = df['County'].str.lower()\n",
    "df['County'].value_counts(dropna=False)"
   ]
  },
  {
   "cell_type": "markdown",
   "id": "d9132d7e",
   "metadata": {},
   "source": [
    "#### 2) Formats"
   ]
  },
  {
   "cell_type": "markdown",
   "id": "c133a6ec",
   "metadata": {},
   "source": [
    "In this dataset we dont have date time"
   ]
  },
  {
   "cell_type": "code",
   "execution_count": null,
   "id": "0449d277",
   "metadata": {},
   "outputs": [],
   "source": [
    "df['timestamp_dt'] = pd.to_datetime(df['timestamp'], format='%Y-%m-%d')\n",
    "df['year'] = df['timestamp_dt'].dt.year\n",
    "df['month'] = df['timestamp_dt'].dt.month\n",
    "df['weekday'] = df['timestamp_dt'].dt.weekday\n",
    "\n",
    "print(df['year'].value_counts(dropna=False))\n",
    "print()\n",
    "print(df['month'].value_counts(dropna=False))"
   ]
  },
  {
   "cell_type": "markdown",
   "id": "ad28f766",
   "metadata": {},
   "source": [
    "#### 3) Categorical Values"
   ]
  },
  {
   "cell_type": "code",
   "execution_count": null,
   "id": "53a1c7f6",
   "metadata": {},
   "outputs": [],
   "source": [
    "from nltk.metrics import edit_distance\n",
    "\n",
    "df_city_ex = pd.DataFrame(data={'city': ['torontoo', 'toronto', 'tronto', 'vancouver', 'vancover', 'vancouvr', 'montreal', 'calgary']})\n",
    "\n",
    "\n",
    "df_city_ex['city_distance_toronto'] = df_city_ex['city'].map(lambda x: edit_distance(x, 'toronto'))\n",
    "df_city_ex['city_distance_vancouver'] = df_city_ex['city'].map(lambda x: edit_distance(x, 'vancouver'))\n",
    "df_city_ex"
   ]
  },
  {
   "cell_type": "code",
   "execution_count": null,
   "id": "a4895b39",
   "metadata": {},
   "outputs": [],
   "source": [
    "msk = df_city_ex['city_distance_toronto'] <= 2\n",
    "df_city_ex.loc[msk, 'city'] = 'toronto'\n",
    "\n",
    "msk = df_city_ex['city_distance_vancouver'] <= 2\n",
    "df_city_ex.loc[msk, 'city'] = 'vancouver'\n",
    "\n",
    "df_city_ex"
   ]
  },
  {
   "cell_type": "markdown",
   "id": "c2d89c34",
   "metadata": {},
   "source": [
    "#### 4) Addresses"
   ]
  },
  {
   "cell_type": "code",
   "execution_count": null,
   "id": "ba149b85",
   "metadata": {},
   "outputs": [],
   "source": [
    "# no address column in the this dataset. So create one to show the code.\n",
    "df_add_ex = pd.DataFrame(['123 MAIN St Apartment 15', '123 Main Street Apt 12   ', '543 FirSt Av', '  876 FIRst Ave.'], columns=['address'])\n",
    "df_add_ex"
   ]
  },
  {
   "cell_type": "code",
   "execution_count": null,
   "id": "04053e7f",
   "metadata": {},
   "outputs": [],
   "source": [
    "df_add_ex['address_std'] = df_add_ex['address'].str.lower()\n",
    "df_add_ex['address_std'] = df_add_ex['address_std'].str.strip() # remove leading and trailing whitespace.\n",
    "df_add_ex['address_std'] = df_add_ex['address_std'].str.replace('\\\\.', '') # remove period.\n",
    "df_add_ex['address_std'] = df_add_ex['address_std'].str.replace('\\\\bstreet\\\\b', 'st') # replace street with st.\n",
    "df_add_ex['address_std'] = df_add_ex['address_std'].str.replace('\\\\bapartment\\\\b', 'apt') # replace apartment with apt.\n",
    "df_add_ex['address_std'] = df_add_ex['address_std'].str.replace('\\\\bav\\\\b', 'ave') # replace apartment with apt.\n",
    "\n",
    "df_add_ex"
   ]
  }
 ],
 "metadata": {
  "kernelspec": {
   "display_name": "Python 3 (ipykernel)",
   "language": "python",
   "name": "python3"
  },
  "language_info": {
   "codemirror_mode": {
    "name": "ipython",
    "version": 3
   },
   "file_extension": ".py",
   "mimetype": "text/x-python",
   "name": "python",
   "nbconvert_exporter": "python",
   "pygments_lexer": "ipython3",
   "version": "3.9.13"
  }
 },
 "nbformat": 4,
 "nbformat_minor": 5
}
