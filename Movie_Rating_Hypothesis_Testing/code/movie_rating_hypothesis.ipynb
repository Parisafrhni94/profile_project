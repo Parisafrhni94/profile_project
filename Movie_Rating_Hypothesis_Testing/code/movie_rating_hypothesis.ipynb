{
 "cells": [
  {
   "cell_type": "markdown",
   "metadata": {},
   "source": [
    "# Movie Rating Hypothesis testing\n",
    "\n"
   ]
  },
  {
   "cell_type": "markdown",
   "metadata": {},
   "source": [
    "In this assignment we are going prove of disprove a hypothesis"
   ]
  },
  {
   "cell_type": "code",
   "execution_count": 1,
   "metadata": {},
   "outputs": [],
   "source": [
    "import os\n",
    "import pandas as pd\n",
    "import numpy as np\n",
    "import matplotlib.pyplot as plt\n",
    "import seaborn as sns\n",
    "import scipy.stats as stats\n",
    "from IPython.display import HTML, display\n",
    "\n",
    "pd.set_option('display.notebook_repr_html', False)\n",
    "pd.set_option('display.max_columns', 20)\n",
    "pd.set_option('display.max_rows', 25)"
   ]
  },
  {
   "cell_type": "code",
   "execution_count": 2,
   "metadata": {},
   "outputs": [],
   "source": [
    "%matplotlib inline"
   ]
  },
  {
   "cell_type": "markdown",
   "metadata": {},
   "source": [
    "##### Read and cleanup the movie data"
   ]
  },
  {
   "cell_type": "code",
   "execution_count": 3,
   "metadata": {},
   "outputs": [
    {
     "name": "stderr",
     "output_type": "stream",
     "text": [
      "C:\\Users\\Ali\\AppData\\Local\\Temp\\ipykernel_3040\\2599110875.py:4: ParserWarning: Falling back to the 'python' engine because the 'c' engine does not support regex separators (separators > 1 char and different from '\\s+' are interpreted as regex); you can avoid this warning by specifying engine='python'.\n",
      "  users = pd.read_table(os.path.join('../data','users.dat'),\n",
      "C:\\Users\\Ali\\AppData\\Local\\Temp\\ipykernel_3040\\2599110875.py:8: ParserWarning: Falling back to the 'python' engine because the 'c' engine does not support regex separators (separators > 1 char and different from '\\s+' are interpreted as regex); you can avoid this warning by specifying engine='python'.\n",
      "  ratings = pd.read_table(os.path.join('../data', 'ratings.dat'),\n",
      "C:\\Users\\Ali\\AppData\\Local\\Temp\\ipykernel_3040\\2599110875.py:12: ParserWarning: Falling back to the 'python' engine because the 'c' engine does not support regex separators (separators > 1 char and different from '\\s+' are interpreted as regex); you can avoid this warning by specifying engine='python'.\n",
      "  movies = pd.read_table(os.path.join('../data', 'movies.dat'),\n"
     ]
    },
    {
     "name": "stdout",
     "output_type": "stream",
     "text": [
      "   movie_id                               title                        genres  \\\n",
      "0         1                    Toy Story (1995)   Animation|Children's|Comedy   \n",
      "1         2                      Jumanji (1995)  Adventure|Children's|Fantasy   \n",
      "2         3             Grumpier Old Men (1995)                Comedy|Romance   \n",
      "3         4            Waiting to Exhale (1995)                  Comedy|Drama   \n",
      "4         5  Father of the Bride Part II (1995)                        Comedy   \n",
      "\n",
      "   year                  short_title  \n",
      "0  1995                    Toy Story  \n",
      "1  1995                      Jumanji  \n",
      "2  1995             Grumpier Old Men  \n",
      "3  1995            Waiting to Exhale  \n",
      "4  1995  Father of the Bride Part II  \n"
     ]
    }
   ],
   "source": [
    "def get_movie_data():\n",
    "    \n",
    "    unames = ['user_id','gender','age','occupation','zip']\n",
    "    users = pd.read_table(os.path.join('../data','users.dat'), \n",
    "                          sep='::', header=None, names=unames, encoding='latin-1')\n",
    "    \n",
    "    rnames = ['user_id', 'movie_id', 'rating', 'timestamp']\n",
    "    ratings = pd.read_table(os.path.join('../data', 'ratings.dat'), \n",
    "                            sep='::', header=None, names=rnames, encoding='latin-1')\n",
    "    \n",
    "    mnames = ['movie_id', 'title','genres']\n",
    "    movies = pd.read_table(os.path.join('../data', 'movies.dat'), \n",
    "                           sep='::', header=None, names=mnames, encoding='latin-1')\n",
    "\n",
    "    return users, ratings, movies\n",
    "\n",
    "users, ratings, movies = get_movie_data()\n",
    "\n",
    "tmp = movies.title.str.extract('(.*) \\(([0-9]+)\\)')\n",
    "tmp.apply(lambda x:x[0] if len(x) > 0 else None)\n",
    "tmp.apply(lambda x: x[0][:40] if len(x) > 0 else None)\n",
    "\n",
    "movies['year'] = tmp[1]\n",
    "movies['short_title'] = tmp[0]\n",
    "\n",
    "print(movies.head())"
   ]
  },
  {
   "cell_type": "markdown",
   "metadata": {},
   "source": [
    "### 1. Prove or disprove the following Null Hypothesis:\n",
    "\n",
    "#### H0: Different age segments of users rate the different genres of movies similarly\n",
    "\n",
    "- Age segments are (0-20), (21-30), (31-50), (50 and above),\n",
    "- Genres - Drama, Comedy, Action, Romance, Adventure\n",
    "- Rating 4 or above is a positive, else negative (used for binary votes)"
   ]
  },
  {
   "cell_type": "markdown",
   "metadata": {},
   "source": [
    "#### Solution"
   ]
  },
  {
   "cell_type": "markdown",
   "metadata": {},
   "source": [
    "##### 1) join movies and ratings table based on movie_id\n",
    "##### 2) join result of above join with users table on user_id\n",
    "##### 3) assign group name to unique ages in the database\n",
    "##### 4) extact the dominant or the genre that a movie is most known for\n",
    "##### 5) calculate mean rating for each movie and age group"
   ]
  },
  {
   "cell_type": "code",
   "execution_count": 4,
   "metadata": {},
   "outputs": [
    {
     "data": {
      "text/plain": [
       "       movie_id                    title broad_genres age_group    rating\n",
       "0             2           Jumanji (1995)    Adventure        G1  3.068421\n",
       "1             2           Jumanji (1995)    Adventure        G2  3.145594\n",
       "2             2           Jumanji (1995)    Adventure        G3  3.353846\n",
       "3             2           Jumanji (1995)    Adventure        G4  3.381818\n",
       "4             3  Grumpier Old Men (1995)       Comedy        G1  3.144000\n",
       "...         ...                      ...          ...       ...       ...\n",
       "10293      3951  Two Family House (2000)        Drama        G4  4.142857\n",
       "10294      3952    Contender, The (2000)        Drama        G1  3.549296\n",
       "10295      3952    Contender, The (2000)        Drama        G2  3.760274\n",
       "10296      3952    Contender, The (2000)        Drama        G3  3.782178\n",
       "10297      3952    Contender, The (2000)        Drama        G4  4.057143\n",
       "\n",
       "[10298 rows x 5 columns]"
      ]
     },
     "execution_count": 4,
     "metadata": {},
     "output_type": "execute_result"
    }
   ],
   "source": [
    "# 1) join movies and ratings table based on movie_id\n",
    "movies_ratings = pd.merge(movies,ratings,on = 'movie_id', how = 'inner')\n",
    "\n",
    "#2) join result of above join with users table on user_id\n",
    "df = pd.merge(movies_ratings,users,on = 'user_id', how = 'inner')\n",
    "\n",
    "#3) assign group name to unique ages in the database\n",
    "df['age_group'] = df.age.replace([ 1, 50, 25, 35, 18, 45, 56],[ 'G1', 'G4', 'G2', 'G3', 'G1', 'G3', 'G4'])\n",
    "\n",
    "#4) extact the dominant or the genre that a movie is most known for\n",
    "df['broad_genres'] =  [item.split('|')[0] for item in df['genres']]\n",
    "df = df[df['broad_genres'].isin(['Adventure','Comedy','Action','Drama','Romance'])]\n",
    "\n",
    "#5) calculate mean rating for each movie and age group\n",
    "data = df.groupby(['movie_id','title','broad_genres','age_group']).mean()['rating'].reset_index()\n",
    "data"
   ]
  },
  {
   "cell_type": "markdown",
   "metadata": {},
   "source": [
    "##### Filter the database for movie genre (select a part of movie data that is specefic to one genre)\n",
    "##### For each genre, compare how users that belong to different age groups rate movies from a specific genre"
   ]
  },
  {
   "cell_type": "code",
   "execution_count": 5,
   "metadata": {},
   "outputs": [],
   "source": [
    "\n",
    "AGE1 = []\n",
    "AGE2 = []\n",
    "Genre = []\n",
    "p_value = []\n",
    "for genre in data.broad_genres.unique():\n",
    "    tmp = data[data.broad_genres == genre]\n",
    "    for age1 in tmp['age_group'].unique():\n",
    "        a = tmp[tmp['age_group'] == age1]\n",
    "        for age2 in tmp['age_group'].unique():\n",
    "            b = tmp[tmp['age_group'] == age2]\n",
    "            AGE1.append(age1)\n",
    "            AGE2.append(age2)\n",
    "            Genre.append(genre)\n",
    "            p_value.append(stats.ttest_ind(a.rating,\n",
    "                b.rating)[1])\n"
   ]
  },
  {
   "cell_type": "markdown",
   "metadata": {},
   "source": [
    "##### Store results from above analysis in a data frame\n",
    "##### Define an outcome column that summarizes the result of test based on p-value"
   ]
  },
  {
   "cell_type": "code",
   "execution_count": 6,
   "metadata": {},
   "outputs": [
    {
     "data": {
      "text/plain": [
       "  AGE GROUP A AGE GROUP B      GENRE   p_value  \\\n",
       "0          G1          G1  Adventure  1.000000   \n",
       "1          G1          G2  Adventure  0.633721   \n",
       "2          G1          G3  Adventure  0.050329   \n",
       "3          G1          G4  Adventure  0.000049   \n",
       "4          G2          G1  Adventure  0.633721   \n",
       "\n",
       "                              Outcome  \n",
       "0  Fail to reject the null hypothesis  \n",
       "1  Fail to reject the null hypothesis  \n",
       "2  Fail to reject the null hypothesis  \n",
       "3          Reject the null hypothesis  \n",
       "4  Fail to reject the null hypothesis  "
      ]
     },
     "execution_count": 6,
     "metadata": {},
     "output_type": "execute_result"
    }
   ],
   "source": [
    "\n",
    "Results = pd.DataFrame()\n",
    "Results['AGE GROUP A'] = AGE1\n",
    "Results['AGE GROUP B'] = AGE2\n",
    "Results['GENRE'] = Genre\n",
    "Results['p_value'] = p_value\n",
    "Results['Outcome'] = ['Reject the null hypothesis' if item<0.05 else 'Fail to reject the null hypothesis' for item in Results['p_value']]\n",
    "Results.head()"
   ]
  },
  {
   "cell_type": "code",
   "execution_count": null,
   "metadata": {},
   "outputs": [],
   "source": []
  }
 ],
 "metadata": {
  "kernelspec": {
   "display_name": "Python 3 (ipykernel)",
   "language": "python",
   "name": "python3"
  },
  "language_info": {
   "codemirror_mode": {
    "name": "ipython",
    "version": 3
   },
   "file_extension": ".py",
   "mimetype": "text/x-python",
   "name": "python",
   "nbconvert_exporter": "python",
   "pygments_lexer": "ipython3",
   "version": "3.9.13"
  },
  "nteract": {
   "version": "0.25.0"
  },
  "vscode": {
   "interpreter": {
    "hash": "e2fa2c00b5e1815032d0b41eb2f0641a51bdc1fc89fc4b4f45f1816ddc1f885b"
   }
  }
 },
 "nbformat": 4,
 "nbformat_minor": 1
}
